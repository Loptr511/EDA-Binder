{
 "cells": [
  {
   "cell_type": "code",
   "execution_count": null,
   "id": "0afd9fab-e962-445b-ac55-b87b114f9345",
   "metadata": {
    "tags": []
   },
   "outputs": [],
   "source": [
    "import numpy as np\n",
    "import pandas as pd"
   ]
  },
  {
   "cell_type": "markdown",
   "id": "5b035eab",
   "metadata": {},
   "source": [
    "### read data with regards to data layout & drop first row and data considering extrapolated values"
   ]
  },
  {
   "cell_type": "code",
   "execution_count": null,
   "id": "66f8f139-f57a-469b-b751-a0ac6027df77",
   "metadata": {},
   "outputs": [],
   "source": [
    "df_worldpop = pd.read_excel('WorldPopulation.xlsx', sheet_name='Population', header = 1, usecols='E:CJ') "
   ]
  },
  {
   "cell_type": "markdown",
   "id": "c9fc4c04",
   "metadata": {},
   "source": [
    "### drop first(empty) row"
   ]
  },
  {
   "cell_type": "code",
   "execution_count": null,
   "id": "c8904ec7-acba-4633-b0a4-74b326d778d3",
   "metadata": {},
   "outputs": [],
   "source": [
    "df_worldpop = df_worldpop.drop(0) "
   ]
  },
  {
   "cell_type": "code",
   "execution_count": null,
   "id": "ce89d651-20c2-4822-9400-9095c043366b",
   "metadata": {},
   "outputs": [],
   "source": [
    "df_worldpop"
   ]
  },
  {
   "cell_type": "markdown",
   "id": "a64dd662",
   "metadata": {},
   "source": [
    "replace pop with empty string to simplify table head"
   ]
  },
  {
   "cell_type": "code",
   "execution_count": null,
   "id": "593a97bf-22de-42f9-9167-d443e0145097",
   "metadata": {},
   "outputs": [],
   "source": [
    "df_worldpop.columns = df_worldpop.columns.str.replace('pop', '') "
   ]
  },
  {
   "cell_type": "markdown",
   "id": "3e5ccd63",
   "metadata": {},
   "source": [
    "### generate df of bools representing empty or non empty cells in the original df"
   ]
  },
  {
   "cell_type": "code",
   "execution_count": null,
   "id": "08bf32b4-9710-4e7e-b2c7-9605b4fcc295",
   "metadata": {},
   "outputs": [],
   "source": [
    "mask = df_worldpop.isnull() "
   ]
  },
  {
   "cell_type": "markdown",
   "id": "2aadccba",
   "metadata": {},
   "source": [
    "### show empty check df"
   ]
  },
  {
   "cell_type": "code",
   "execution_count": null,
   "id": "6115a7ee-6ee0-4e17-a745-2c1501da09d7",
   "metadata": {},
   "outputs": [],
   "source": [
    "mask "
   ]
  },
  {
   "cell_type": "markdown",
   "id": "2e90ca76",
   "metadata": {},
   "source": [
    "### check if there are any values in each row //looking for bools (\"1\" or \"true\")"
   ]
  },
  {
   "cell_type": "code",
   "execution_count": null,
   "id": "d369c24d-ff4a-46ef-96e7-aa3a11d7b45f",
   "metadata": {},
   "outputs": [],
   "source": [
    "emptymask = mask.any(axis = 1) "
   ]
  },
  {
   "cell_type": "code",
   "execution_count": null,
   "id": "82092daa-02b9-49b8-a28a-b76189d20090",
   "metadata": {},
   "outputs": [],
   "source": [
    "emptymask"
   ]
  },
  {
   "cell_type": "markdown",
   "id": "4e9fd361",
   "metadata": {},
   "source": [
    "###  use compressed mask to finally check for any empty values in a easy readable form"
   ]
  },
  {
   "cell_type": "code",
   "execution_count": null,
   "id": "87255fb8-6cea-4792-a7b7-c2375eeb3199",
   "metadata": {},
   "outputs": [],
   "source": [
    "df_worldpop[emptymask] "
   ]
  },
  {
   "cell_type": "markdown",
   "id": "4e717e81-7fc6-4dbf-9415-c7beeefd835f",
   "metadata": {},
   "source": [
    "TODO: \n",
    "    suche nach NullWerte\n",
    "    bestimme min, max, median \n",
    "    suche nach doppelte Einträge\n",
    "    DT abändern (Region kategoricalstring) nach dem merge\n",
    "    zweiten DS einlesen\n",
    "   "
   ]
  },
  {
   "cell_type": "markdown",
   "id": "66c12b34",
   "metadata": {},
   "source": [
    "### Check if Countrys are unique"
   ]
  },
  {
   "cell_type": "code",
   "execution_count": null,
   "id": "7bbd9811",
   "metadata": {},
   "outputs": [],
   "source": [
    "pd.Series(df_worldpop[\"Country\"]).is_unique"
   ]
  },
  {
   "cell_type": "markdown",
   "id": "c020eaa0",
   "metadata": {},
   "source": [
    "### use describe as a placeholder little to no use at this point"
   ]
  },
  {
   "cell_type": "code",
   "execution_count": null,
   "id": "1e8e0e0e",
   "metadata": {},
   "outputs": [],
   "source": [
    "print(df_worldpop.describe()) \n"
   ]
  },
  {
   "cell_type": "markdown",
   "id": "6c9326df",
   "metadata": {},
   "source": [
    "#### loop through col and count rows with value \"0\" // ie check DF for zeroes"
   ]
  },
  {
   "cell_type": "code",
   "execution_count": null,
   "id": "73fe932a",
   "metadata": {
    "scrolled": true
   },
   "outputs": [],
   "source": [
    "num = 0\n",
    "for i in df_worldpop.columns:\n",
    "   num += df_worldpop[i][df_worldpop[i]==0].count()\n",
    "num"
   ]
  },
  {
   "cell_type": "markdown",
   "id": "5eb426da",
   "metadata": {},
   "source": [
    "### load deathdata under new file name as workaround"
   ]
  },
  {
   "cell_type": "code",
   "execution_count": null,
   "id": "2a4d16c0",
   "metadata": {},
   "outputs": [],
   "source": [
    "df_deathstats = pd.read_csv('deathdata.csv')"
   ]
  },
  {
   "cell_type": "code",
   "execution_count": null,
   "id": "6ca01e45",
   "metadata": {},
   "outputs": [],
   "source": [
    "df_deathstats"
   ]
  },
  {
   "cell_type": "markdown",
   "id": "0696222d",
   "metadata": {},
   "source": [
    "### for some countrys we are missing data / lets replace them with \"noData\" for now"
   ]
  },
  {
   "cell_type": "code",
   "execution_count": null,
   "id": "78de52d2",
   "metadata": {},
   "outputs": [],
   "source": [
    "df_deathstats.fillna('noData', inplace = True) "
   ]
  },
  {
   "cell_type": "code",
   "execution_count": null,
   "id": "9407ac84",
   "metadata": {},
   "outputs": [],
   "source": [
    "df_deathstats"
   ]
  },
  {
   "cell_type": "code",
   "execution_count": null,
   "id": "7ebba04b",
   "metadata": {},
   "outputs": [],
   "source": [
    "print(df_deathstats.describe()) "
   ]
  },
  {
   "cell_type": "code",
   "execution_count": null,
   "id": "e097168c",
   "metadata": {},
   "outputs": [],
   "source": [
    "df_deathstats.std"
   ]
  },
  {
   "cell_type": "code",
   "execution_count": null,
   "id": "ca8275c5",
   "metadata": {},
   "outputs": [],
   "source": [
    "df_deathstats.mean"
   ]
  },
  {
   "cell_type": "code",
   "execution_count": null,
   "id": "14806114",
   "metadata": {},
   "outputs": [],
   "source": [
    "df_deathstats.dtypes\n"
   ]
  }
 ],
 "metadata": {
  "kernelspec": {
   "display_name": "EDA-Test_env",
   "language": "python",
   "name": "eda-test_env"
  },
  "language_info": {
   "codemirror_mode": {
    "name": "ipython",
    "version": 3
   },
   "file_extension": ".py",
   "mimetype": "text/x-python",
   "name": "python",
   "nbconvert_exporter": "python",
   "pygments_lexer": "ipython3",
   "version": "3.9.13"
  }
 },
 "nbformat": 4,
 "nbformat_minor": 5
}
